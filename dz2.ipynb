{
 "cells": [
  {
   "cell_type": "code",
   "execution_count": 80,
   "metadata": {},
   "outputs": [],
   "source": [
    "import pysam"
   ]
  },
  {
   "cell_type": "code",
   "execution_count": 81,
   "metadata": {},
   "outputs": [],
   "source": [
    "file = pysam.AlignmentFile(\"/sbgenomics/project-files/merged-tumor.bam\", \"rb\")"
   ]
  },
  {
   "cell_type": "code",
   "execution_count": 82,
   "metadata": {},
   "outputs": [],
   "source": [
    "read_one = pysam.AlignedSegment"
   ]
  },
  {
   "cell_type": "code",
   "execution_count": 83,
   "metadata": {},
   "outputs": [
    {
     "name": "stdout",
     "output_type": "stream",
     "text": [
      "Flag fields: 1187\n",
      "Read paired: True\n",
      "Read mapped in proper pair: True\n",
      "Read unmapped: False\n"
     ]
    }
   ],
   "source": [
    "#Inspect the fields in the AlignedSegment and inspect the flag field\n",
    "\n",
    "flag = 0\n",
    "for read in file.fetch():\n",
    "    if flag==0:\n",
    "        flag=1\n",
    "        read_one=read\n",
    "\n",
    "print(\"Flag fields: \" + str(read_one.flag))\n",
    "print(\"Read paired: \" + str(read_one.is_paired))\n",
    "print(\"Read mapped in proper pair: \" + str(read_one.is_proper_pair))\n",
    "print(\"Read unmapped: \" + str(read_one.is_unmapped))"
   ]
  },
  {
   "cell_type": "code",
   "execution_count": 84,
   "metadata": {},
   "outputs": [
    {
     "name": "stdout",
     "output_type": "stream",
     "text": [
      "Unmapped reads: 17765\n"
     ]
    }
   ],
   "source": [
    "#How many unmapped reads are in the file?\n",
    "unmapped_reads = 0\n",
    "\n",
    "for read in file.fetch():\n",
    "    if read.is_unmapped: \n",
    "        unmapped_reads += 1\n",
    "        \n",
    "print(\"Unmapped reads: \" + str(unmapped_reads))"
   ]
  },
  {
   "cell_type": "code",
   "execution_count": 85,
   "metadata": {},
   "outputs": [
    {
     "name": "stdout",
     "output_type": "stream",
     "text": [
      "Total reads: 2921629\n"
     ]
    }
   ],
   "source": [
    "#Total number of reads\n",
    "total_reads = 0\n",
    "\n",
    "for read in file.fetch(): total_reads=total_reads+1\n",
    "\n",
    "print(\"Total reads: \" + str(total_reads))"
   ]
  },
  {
   "cell_type": "code",
   "execution_count": 86,
   "metadata": {},
   "outputs": [
    {
     "name": "stdout",
     "output_type": "stream",
     "text": [
      "Reads with mapping quality 0: 126628\n"
     ]
    }
   ],
   "source": [
    "#Number of reads with mapping quality 0\n",
    "reads_with_mapping_quality_zero=0\n",
    "\n",
    "for read in file.fetch(): \n",
    "    if read.mapping_quality==0: reads_with_mapping_quality_zero=reads_with_mapping_quality_zero+1\n",
    "\n",
    "print(\"Reads with mapping quality 0: \" + str(reads_with_mapping_quality_zero))"
   ]
  },
  {
   "cell_type": "code",
   "execution_count": 87,
   "metadata": {},
   "outputs": [
    {
     "name": "stdout",
     "output_type": "stream",
     "text": [
      "Average mapping quality for all the reads: 55.91379158681681\n"
     ]
    }
   ],
   "source": [
    "#Average mapping quality for all the reads\n",
    "mapping_quality_sum = 0\n",
    "\n",
    "for read in file.fetch(): mapping_quality_sum = mapping_quality_sum + read.mapping_quality \n",
    "\n",
    "print(\"Average mapping quality for all the reads: \" + str(mapping_quality_sum/total_reads))"
   ]
  },
  {
   "cell_type": "code",
   "execution_count": 88,
   "metadata": {},
   "outputs": [
    {
     "name": "stdout",
     "output_type": "stream",
     "text": [
      "Average mapping quality if reads with 0 mapp quality are filtered out: 58.446975510921106\n"
     ]
    }
   ],
   "source": [
    "#Average mapping quality if reads with 0 mapp quality are filtered out\n",
    "print(\"Average mapping quality if reads with 0 mapp quality are filtered out: \" + str(mapping_quality_sum / (total_reads - reads_with_mapping_quality_zero)))"
   ]
  }
 ],
 "metadata": {
  "kernelspec": {
   "display_name": "Python 3",
   "language": "python",
   "name": "python3"
  },
  "language_info": {
   "codemirror_mode": {
    "name": "ipython",
    "version": 3
   },
   "file_extension": ".py",
   "mimetype": "text/x-python",
   "name": "python",
   "nbconvert_exporter": "python",
   "pygments_lexer": "ipython3",
   "version": "3.8.5"
  }
 },
 "nbformat": 4,
 "nbformat_minor": 2
}
